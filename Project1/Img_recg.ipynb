{
 "cells": [
  {
   "cell_type": "code",
   "execution_count": null,
   "metadata": {},
   "outputs": [],
   "source": [
    "from tensorflow.keras.applications.mobilenet_v2 import MobileNetV2, preprocess_input\n",
    "from tensorflow.keras.preprocessing.image import ImageDataGenerator\n",
    "from tensorflow.keras import Model, layers\n",
    "from PIL import Image\n",
    "import numpy as np"
   ]
  },
  {
   "cell_type": "code",
   "execution_count": null,
   "metadata": {},
   "outputs": [],
   "source": [
    "## 資料目錄來源 以資料夾當作分類 , e.g. Datasets/cats, Datasets/dogs, ...\n",
    "src_dir = r'Datasets/'\n",
    "## 單次預測圖片\n",
    "predict_img = r'Datasets/test1.png'\n",
    "\n",
    "## 影像讀取處理\n",
    "datagen = ImageDataGenerator(validation_split=0.2, preprocessing_function=preprocess_input)\n",
    "train_generator = datagen.flow_from_directory(src_dir, target_size=(224, 224), batch_size=20, subset='training')\n",
    "valid_generator = datagen.flow_from_directory(src_dir, target_size=(224, 224), batch_size=20, subset='validation')\n",
    "\n",
    "## 模型建立\n",
    "mobilenetV2 = MobileNetV2(include_top=False, pooling='avg')\n",
    "for mlayer in mobilenetV2.layers:\n",
    "    mlayer.trainable = False\n",
    "mobilenetV2output = mobilenetV2.layers[-1].output\n",
    "fc = layers.Dense(units=train_generator.num_classes, activation='softmax', name='custom_fc') (mobilenetV2output)\n",
    "classification_model = Model(\n",
    "            inputs=mobilenetV2.inputs,\n",
    "            outputs=fc)\n",
    "classification_model.compile(loss='categorical_crossentropy', optimizer='Adam')\n",
    "\n",
    "## 模型訓練\n",
    "history = classification_model.fit(train_generator, epochs=10, validation_data=valid_generator)"
   ]
  },
  {
   "cell_type": "code",
   "execution_count": null,
   "metadata": {},
   "outputs": [],
   "source": [
    "## 單次預測\n",
    "true_labels_dict = {}\n",
    "for key in train_generator.class_indices:\n",
    "    true_labels_dict[train_generator.class_indices[key]] = key\n",
    "\n",
    "def pred(img_path):\n",
    "    img = preprocess_input(np.array(Image.open(img_path).convert('RGB')))\n",
    "    img = np.array([img])\n",
    "    result_prob = classification_model.predict(img).tolist()[0]\n",
    "    max_index = result_prob.index(max(result_prob))\n",
    "    print(true_labels_dict[max_index], result_prob[max_index])\n",
    "\n",
    "pred(predict_img)"
   ]
  }
 ],
 "metadata": {
  "language_info": {
   "name": "python"
  }
 },
 "nbformat": 4,
 "nbformat_minor": 2
}
