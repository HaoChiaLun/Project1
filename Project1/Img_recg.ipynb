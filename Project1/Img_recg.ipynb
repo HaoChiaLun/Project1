{
 "cells": [
  {
   "cell_type": "code",
   "execution_count": 2,
   "metadata": {},
   "outputs": [
    {
     "name": "stdout",
     "output_type": "stream",
     "text": [
      "2.16.1\n",
      "10.3.0\n",
      "Found 6404 images belonging to 2 classes.\n",
      "Found 1600 images belonging to 2 classes.\n"
     ]
    },
    {
     "name": "stderr",
     "output_type": "stream",
     "text": [
      "C:\\Users\\owner\\AppData\\Local\\Temp\\ipykernel_19460\\2344927676.py:37: UserWarning: `input_shape` is undefined or non-square, or `rows` is not in [96, 128, 160, 192, 224]. Weights for input shape (224, 224) will be loaded as the default.\n",
      "  mobilenetV2 = MobileNetV2(include_top=False, pooling='avg')\n"
     ]
    },
    {
     "name": "stdout",
     "output_type": "stream",
     "text": [
      "Epoch 1/50\n"
     ]
    },
    {
     "name": "stderr",
     "output_type": "stream",
     "text": [
      "C:\\Users\\owner\\AppData\\Local\\Packages\\PythonSoftwareFoundation.Python.3.11_qbz5n2kfra8p0\\LocalCache\\local-packages\\Python311\\site-packages\\keras\\src\\trainers\\data_adapters\\py_dataset_adapter.py:121: UserWarning: Your `PyDataset` class should call `super().__init__(**kwargs)` in its constructor. `**kwargs` can include `workers`, `use_multiprocessing`, `max_queue_size`. Do not pass these arguments to `fit()`, as they will be ignored.\n",
      "  self._warn_if_super_not_called()\n"
     ]
    },
    {
     "name": "stdout",
     "output_type": "stream",
     "text": [
      "\u001b[1m321/321\u001b[0m \u001b[32m━━━━━━━━━━━━━━━━━━━━\u001b[0m\u001b[37m\u001b[0m \u001b[1m88s\u001b[0m 260ms/step - loss: 0.1182 - val_loss: 0.0466\n",
      "Epoch 2/50\n",
      "\u001b[1m321/321\u001b[0m \u001b[32m━━━━━━━━━━━━━━━━━━━━\u001b[0m\u001b[37m\u001b[0m \u001b[1m77s\u001b[0m 241ms/step - loss: 0.0384 - val_loss: 0.0525\n",
      "Epoch 3/50\n",
      "\u001b[1m321/321\u001b[0m \u001b[32m━━━━━━━━━━━━━━━━━━━━\u001b[0m\u001b[37m\u001b[0m \u001b[1m77s\u001b[0m 241ms/step - loss: 0.0324 - val_loss: 0.0451\n",
      "Epoch 4/50\n",
      "\u001b[1m321/321\u001b[0m \u001b[32m━━━━━━━━━━━━━━━━━━━━\u001b[0m\u001b[37m\u001b[0m \u001b[1m78s\u001b[0m 244ms/step - loss: 0.0207 - val_loss: 0.0454\n",
      "Epoch 5/50\n",
      "\u001b[1m321/321\u001b[0m \u001b[32m━━━━━━━━━━━━━━━━━━━━\u001b[0m\u001b[37m\u001b[0m \u001b[1m77s\u001b[0m 240ms/step - loss: 0.0160 - val_loss: 0.0460\n",
      "Epoch 6/50\n",
      "\u001b[1m321/321\u001b[0m \u001b[32m━━━━━━━━━━━━━━━━━━━━\u001b[0m\u001b[37m\u001b[0m \u001b[1m78s\u001b[0m 244ms/step - loss: 0.0145 - val_loss: 0.0484\n",
      "Epoch 6: early stopping\n",
      "Restoring model weights from the end of the best epoch: 3.\n",
      "\u001b[1m1/1\u001b[0m \u001b[32m━━━━━━━━━━━━━━━━━━━━\u001b[0m\u001b[37m\u001b[0m \u001b[1m1s\u001b[0m 987ms/step\n",
      "cats 0.9997395873069763\n"
     ]
    }
   ],
   "source": [
    "from tensorflow.keras.applications.mobilenet_v2 import MobileNetV2, preprocess_input\n",
    "from tensorflow.keras.preprocessing.image import ImageDataGenerator\n",
    "from tensorflow.keras import Model, layers\n",
    "from tensorflow.keras.applications.mobilenet_v2 import MobileNetV2\n",
    "from PIL import Image\n",
    "import numpy as np\n",
    "from tensorflow.keras.callbacks import EarlyStopping\n",
    "\n",
    "##驗證是否安裝tensorflow\n",
    "import tensorflow as tf\n",
    "print(tf.__version__)\n",
    "from PIL import Image\n",
    "print(Image.__version__)\n",
    "\n",
    "## 資料目錄來源 以資料夾當作分類 , e.g. Datasets/cats, Datasets/dogs, ...\n",
    "src_dir = r'Datasets/'\n",
    "## 單次預測圖片\n",
    "predict_img = r'Datasets/test1.png'\n",
    "\n",
    "## 影像讀取處理\n",
    "datagen = ImageDataGenerator(validation_split=0.2, preprocessing_function=preprocess_input)\n",
    "train_generator = datagen.flow_from_directory(src_dir, target_size=(224, 224), batch_size=20, subset='training')\n",
    "valid_generator = datagen.flow_from_directory(src_dir, target_size=(224, 224), batch_size=20, subset='validation')\n",
    "\n",
    "# 初始化 MobileNetV2，明確指定輸入尺寸\n",
    "mobilenetV2 = MobileNetV2(include_top=False, pooling='avg', input_shape=(224, 224, 3))\n",
    "\n",
    "# 設定早期停止監控器\n",
    "early_stopping_monitor = EarlyStopping(\n",
    "    monitor='val_loss',  # 監控驗證集上的損失\n",
    "    patience=3,          # 在3個epoch内如果性能沒有提升，則停止\n",
    "    verbose=1,\n",
    "    restore_best_weights=True  # 恢復到最佳模型權重\n",
    ")\n",
    "\n",
    "## 模型建立\n",
    "mobilenetV2 = MobileNetV2(include_top=False, pooling='avg')\n",
    "for mlayer in mobilenetV2.layers:\n",
    "    mlayer.trainable = False\n",
    "mobilenetV2output = mobilenetV2.layers[-1].output\n",
    "fc = layers.Dense(units=train_generator.num_classes, activation='softmax', name='custom_fc') (mobilenetV2output)\n",
    "classification_model = Model(\n",
    "            inputs=mobilenetV2.inputs,\n",
    "            outputs=fc)\n",
    "classification_model.compile(loss='categorical_crossentropy', optimizer='Adam')\n",
    "\n",
    "## 模型訓練\n",
    "history = classification_model.fit(\n",
    "    train_generator, \n",
    "    epochs=50, \n",
    "    validation_data=valid_generator,\n",
    "    callbacks = [early_stopping_monitor] #新增早期停止callbacks\n",
    ")\n",
    "\n",
    "## 單次預測\n",
    "true_labels_dict = {}\n",
    "for key in train_generator.class_indices:\n",
    "    true_labels_dict[train_generator.class_indices[key]] = key\n",
    "\n",
    "def pred(img_path):\n",
    "    img = preprocess_input(np.array(Image.open(img_path).convert('RGB')))\n",
    "    img = np.array([img])\n",
    "    result_prob = classification_model.predict(img).tolist()[0]\n",
    "    max_index = result_prob.index(max(result_prob))\n",
    "    print(true_labels_dict[max_index], result_prob[max_index])\n",
    "\n",
    "pred(predict_img)"
   ]
  }
 ],
 "metadata": {
  "kernelspec": {
   "display_name": "Python 3",
   "language": "python",
   "name": "python3"
  },
  "language_info": {
   "codemirror_mode": {
    "name": "ipython",
    "version": 3
   },
   "file_extension": ".py",
   "mimetype": "text/x-python",
   "name": "python",
   "nbconvert_exporter": "python",
   "pygments_lexer": "ipython3",
   "version": "3.11.9"
  }
 },
 "nbformat": 4,
 "nbformat_minor": 2
}
