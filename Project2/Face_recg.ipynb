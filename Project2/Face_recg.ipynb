{
 "cells": [
  {
   "cell_type": "code",
   "execution_count": 6,
   "metadata": {},
   "outputs": [
    {
     "name": "stderr",
     "output_type": "stream",
     "text": [
      "Action: race: 100%|██████████| 4/4 [00:00<00:00,  6.82it/s]  \n"
     ]
    },
    {
     "name": "stdout",
     "output_type": "stream",
     "text": [
      "[{'age': 26,\n",
      "  'dominant_emotion': 'surprise',\n",
      "  'dominant_gender': 'Woman',\n",
      "  'dominant_race': 'white',\n",
      "  'emotion': {'angry': 1.020578127332995e-08,\n",
      "              'disgust': 2.0423660843537568e-18,\n",
      "              'fear': 0.0064576608776490164,\n",
      "              'happy': 2.3469024745796566e-05,\n",
      "              'neutral': 5.01610790592737e-16,\n",
      "              'sad': 2.2342853455295172e-12,\n",
      "              'surprise': 99.99352097472674},\n",
      "  'face_confidence': 0.91,\n",
      "  'gender': {'Man': 0.0006828779987699818, 'Woman': 99.99932050704956},\n",
      "  'race': {'asian': 9.229089319705963,\n",
      "           'black': 0.4222644492983818,\n",
      "           'indian': 1.047266647219658,\n",
      "           'latino hispanic': 26.684704422950745,\n",
      "           'middle eastern': 8.22557657957077,\n",
      "           'white': 54.39109802246094},\n",
      "  'region': {'h': 140,\n",
      "             'left_eye': (222, 106),\n",
      "             'right_eye': (165, 107),\n",
      "             'w': 140,\n",
      "             'x': 127,\n",
      "             'y': 53}}]\n"
     ]
    }
   ],
   "source": [
    "import cv2\n",
    "from deepface import DeepFace\n",
    "import numpy as np\n",
    "import pprint\n",
    "\n",
    "img = cv2.imread('test1.jpg')     # 讀取圖片\n",
    "try:\n",
    "    analyze = DeepFace.analyze(img)  # 辨識圖片人臉資訊\n",
    "    pprint.pprint(analyze)  # 使用 pprint 函數打印出分段結果\n",
    "except:\n",
    "    pass\n",
    "\n",
    "cv2.imshow('oxxostudio', img)\n",
    "cv2.waitKey(5000)\n",
    "cv2.destroyAllWindows()"
   ]
  },
  {
   "cell_type": "code",
   "execution_count": 3,
   "metadata": {},
   "outputs": [
    {
     "name": "stdout",
     "output_type": "stream",
     "text": [
      "fear\n",
      "48\n",
      "asian\n",
      "{'Woman': 0.06125913932919502, 'Man': 99.93873834609985}\n"
     ]
    }
   ],
   "source": [
    "import cv2\n",
    "from deepface import DeepFace\n",
    "import numpy as np\n",
    "\n",
    "img = cv2.imread('test.jpg')\n",
    "try:\n",
    "    emotion = DeepFace.analyze(img, actions=['emotion'])  # 情緒\n",
    "    age = DeepFace.analyze(img, actions=['age'])          # 年齡\n",
    "    race = DeepFace.analyze(img, actions=['race'])        # 人種\n",
    "    gender = DeepFace.analyze(img, actions=['gender'])    # 性別\n",
    "\n",
    "    print(emotion[0]['dominant_emotion'])\n",
    "    print(age[0]['age'])\n",
    "    print(race[0]['dominant_race'])\n",
    "    print(gender[0]['gender'])\n",
    "except:\n",
    "    pass\n",
    "\n",
    "cv2.imshow('oxxostudio', img)\n",
    "cv2.waitKey(5000)\n",
    "cv2.destroyAllWindows()"
   ]
  },
  {
   "cell_type": "code",
   "execution_count": 1,
   "metadata": {},
   "outputs": [
    {
     "name": "stdout",
     "output_type": "stream",
     "text": [
      "WARNING:tensorflow:From C:\\Users\\owner\\AppData\\Local\\Packages\\PythonSoftwareFoundation.Python.3.11_qbz5n2kfra8p0\\LocalCache\\local-packages\\Python311\\site-packages\\tf_keras\\src\\losses.py:2976: The name tf.losses.sparse_softmax_cross_entropy is deprecated. Please use tf.compat.v1.losses.sparse_softmax_cross_entropy instead.\n",
      "\n",
      "Cannot open camera\n",
      "Cannot receive frame\n"
     ]
    },
    {
     "ename": "",
     "evalue": "",
     "output_type": "error",
     "traceback": [
      "\u001b[1;31m在目前儲存格或上一個儲存格中執行程式碼時，Kernel 已損毀。\n",
      "\u001b[1;31m請檢閱儲存格中的程式碼，找出失敗的可能原因。\n",
      "\u001b[1;31m如需詳細資訊，請按一下<a href='https://aka.ms/vscodeJupyterKernelCrash'>這裡</a>。\n",
      "\u001b[1;31m如需詳細資料，請檢視 Jupyter <a href='command:jupyter.viewOutput'>記錄</a>。"
     ]
    }
   ],
   "source": [
    "import cv2\n",
    "from deepface import DeepFace\n",
    "import numpy as np\n",
    "from PIL import ImageFont, ImageDraw, Image\n",
    "\n",
    "# 定義該情緒的中文字\n",
    "text_obj={\n",
    "    'angry': '生氣',\n",
    "    'disgust': '噁心',\n",
    "    'fear': '害怕',\n",
    "    'happy': '開心',\n",
    "    'sad': '難過',\n",
    "    'surprise': '驚訝',\n",
    "    'neutral': '正常'\n",
    "}\n",
    "\n",
    "# 定義加入文字函式\n",
    "def putText(x,y,text,size=50,color=(255,255,255)):\n",
    "    global img\n",
    "    fontpath = 'NotoSansTC-Regular.otf'            # 字型\n",
    "    font = ImageFont.truetype(fontpath, size)      # 定義字型與文字大小\n",
    "    imgPil = Image.fromarray(img)                  # 轉換成 PIL 影像物件\n",
    "    draw = ImageDraw.Draw(imgPil)                  # 定義繪圖物件\n",
    "    draw.text((x, y), text_obj[text], fill=color, font=font) # 加入文字\n",
    "    img = np.array(imgPil)                         # 轉換成 np.array\n",
    "\n",
    "cap = cv2.VideoCapture(0)\n",
    "\n",
    "if not cap.isOpened():\n",
    "    print(\"Cannot open camera\")\n",
    "    exit()\n",
    "while True:\n",
    "    ret, frame = cap.read()\n",
    "    if not ret:\n",
    "        print(\"Cannot receive frame\")\n",
    "        break\n",
    "    img = cv2.resize(frame,(384,240))\n",
    "    try:\n",
    "        analyze = DeepFace.analyze(img, actions=['emotion'])\n",
    "        emotion = analyze[0]['dominant_emotion']  # 取得情緒文字\n",
    "        putText(0,40,emotion)                  # 放入文字\n",
    "    except:\n",
    "        pass\n",
    "    cv2.imshow('oxxostudio', img)\n",
    "    if cv2.waitKey(5) == ord('q'):\n",
    "        break\n",
    "cap.release()\n",
    "cv2.destroyAllWindows()"
   ]
  }
 ],
 "metadata": {
  "kernelspec": {
   "display_name": "Python 3",
   "language": "python",
   "name": "python3"
  },
  "language_info": {
   "codemirror_mode": {
    "name": "ipython",
    "version": 3
   },
   "file_extension": ".py",
   "mimetype": "text/x-python",
   "name": "python",
   "nbconvert_exporter": "python",
   "pygments_lexer": "ipython3",
   "version": "3.11.9"
  }
 },
 "nbformat": 4,
 "nbformat_minor": 2
}
