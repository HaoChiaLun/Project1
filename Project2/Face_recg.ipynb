{
 "cells": [
  {
   "cell_type": "code",
   "execution_count": 7,
   "metadata": {},
   "outputs": [
    {
     "name": "stderr",
     "output_type": "stream",
     "text": [
      "Action: race: 100%|██████████| 4/4 [00:18<00:00,  4.72s/it]  \n"
     ]
    },
    {
     "name": "stdout",
     "output_type": "stream",
     "text": [
      "[{'age': 39,\n",
      "  'dominant_emotion': 'happy',\n",
      "  'dominant_gender': 'Man',\n",
      "  'dominant_race': 'asian',\n",
      "  'emotion': {'angry': 4.09043494278968,\n",
      "              'disgust': 1.9328104519278998e-10,\n",
      "              'fear': 0.001868501526670814,\n",
      "              'happy': 91.09984742404849,\n",
      "              'neutral': 4.004826291820253,\n",
      "              'sad': 0.8030091386426522,\n",
      "              'surprise': 3.521832716397823e-06},\n",
      "  'face_confidence': 0.92,\n",
      "  'gender': {'Man': 99.99314546585083, 'Woman': 0.00685334816807881},\n",
      "  'race': {'asian': 80.55955767631531,\n",
      "           'black': 0.1933556515723467,\n",
      "           'indian': 0.7443923968821764,\n",
      "           'latino hispanic': 1.3726511038839817,\n",
      "           'middle eastern': 0.8936876431107521,\n",
      "           'white': 16.236357390880585},\n",
      "  'region': {'h': 341,\n",
      "             'left_eye': None,\n",
      "             'right_eye': None,\n",
      "             'w': 341,\n",
      "             'x': 192,\n",
      "             'y': 120}}]\n"
     ]
    }
   ],
   "source": [
    "import cv2\n",
    "from deepface import DeepFace\n",
    "import numpy as np\n",
    "import pprint\n",
    "\n",
    "img = cv2.imread('test.jpg')     # 讀取圖片\n",
    "try:\n",
    "    analyze = DeepFace.analyze(img)  # 辨識圖片人臉資訊\n",
    "    pprint.pprint(analyze)  # 使用 pprint 函數打印出分段結果\n",
    "except:\n",
    "    pass\n",
    "\n",
    "cv2.imshow('oxxostudio', img)\n",
    "cv2.waitKey(0)\n",
    "cv2.destroyAllWindows()"
   ]
  },
  {
   "cell_type": "code",
   "execution_count": 8,
   "metadata": {},
   "outputs": [
    {
     "name": "stdout",
     "output_type": "stream",
     "text": [
      "happy\n",
      "39\n",
      "asian\n",
      "Man\n"
     ]
    }
   ],
   "source": [
    "import cv2\n",
    "from deepface import DeepFace\n",
    "import numpy as np\n",
    "\n",
    "img = cv2.imread('test.jpg')\n",
    "try:\n",
    "    emotion = DeepFace.analyze(img, actions=['emotion'])  # 情緒\n",
    "    age = DeepFace.analyze(img, actions=['age'])          # 年齡\n",
    "    race = DeepFace.analyze(img, actions=['race'])        # 人種\n",
    "    gender = DeepFace.analyze(img, actions=['gender'])    # 性別\n",
    "\n",
    "    print(emotion[0]['dominant_emotion'])\n",
    "    print(age[0]['age'])\n",
    "    print(race[0]['dominant_race'])\n",
    "    print(gender[0]['dominant_gender'])\n",
    "\n",
    "    # 定義文字位置和字體\n",
    "    font = cv2.FONT_HERSHEY_COMPLEX\n",
    "    position = (0, 50)\n",
    "    font_scale = 1\n",
    "    font_color = (0, 0, 0)\n",
    "    line_type = 2\n",
    "\n",
    "    age_value = age[0]['age']\n",
    "    ageValue = str(age_value)\n",
    "    gender_value = gender[0]['dominant_gender']\n",
    "    genderValue = str(gender_value)\n",
    "    race_value = race[0]['dominant_race']\n",
    "    raceValue = str(race_value)\n",
    "    emotion_value = emotion[0]['dominant_emotion']\n",
    "    emotionValue = str(emotion_value)\n",
    "\n",
    "    # 將文字印在圖片上\n",
    "    cv2.putText(img, f'{\"result:\"}', position, font, font_scale, font_color, line_type)\n",
    "    cv2.putText(img, f'{\"age:\",ageValue}', (position[0], position[1] + 30), font, font_scale, font_color, line_type)\n",
    "    cv2.putText(img, f'{\"gender\",genderValue}', (position[0], position[1] + 60), font, font_scale, font_color, line_type)\n",
    "    cv2.putText(img, f'{\"race\",raceValue}', (position[0], position[1] + 90), font, font_scale, font_color, line_type)\n",
    "    cv2.putText(img, f'{\"emotion\",emotionValue}', (position[0], position[1] + 120), font, font_scale, font_color, line_type)\n",
    "except Exception as e:\n",
    "    print(\"Error:\", e)\n",
    "\n",
    "cv2.imshow('oxxostudio', img)\n",
    "cv2.waitKey(0)\n",
    "cv2.destroyAllWindows()"
   ]
  },
  {
   "cell_type": "code",
   "execution_count": 6,
   "metadata": {},
   "outputs": [],
   "source": [
    "import cv2\n",
    "from deepface import DeepFace\n",
    "import numpy as np\n",
    "from PIL import ImageFont, ImageDraw, Image\n",
    "\n",
    "# 定義該情緒的中文字\n",
    "text_obj={\n",
    "    'angry': '生氣',\n",
    "    'disgust': '噁心',\n",
    "    'fear': '害怕',\n",
    "    'happy': '開心',\n",
    "    'sad': '難過',\n",
    "    'surprise': '驚訝',\n",
    "    'neutral': '正常'\n",
    "}\n",
    "\n",
    "# 定義加入文字函式\n",
    "def putText(x,y,text,size=50,color=(255,255,255)):\n",
    "    global img\n",
    "    fontpath = 'NotoSansTC-Regular.otf'            # 字型\n",
    "    font = ImageFont.truetype(fontpath, size)      # 定義字型與文字大小\n",
    "    imgPil = Image.fromarray(img)                  # 轉換成 PIL 影像物件\n",
    "    draw = ImageDraw.Draw(imgPil)                  # 定義繪圖物件\n",
    "    draw.text((x, y), text_obj[text], fill=color, font=font) # 加入文字\n",
    "    img = np.array(imgPil)                         # 轉換成 np.array\n",
    "\n",
    "cap = cv2.VideoCapture(0)\n",
    "\n",
    "if not cap.isOpened():\n",
    "    print(\"Cannot open camera\")\n",
    "    exit()\n",
    "while True:\n",
    "    ret, frame = cap.read()\n",
    "    if not ret:\n",
    "        print(\"Cannot receive frame\")\n",
    "        break\n",
    "    img = cv2.resize(frame,(384,240))\n",
    "    try:\n",
    "        analyze = DeepFace.analyze(img, actions=['emotion'])\n",
    "        emotion = analyze[0]['dominant_emotion']  # 取得情緒文字\n",
    "        putText(0,0,emotion)                  # 放入文字\n",
    "    except:\n",
    "        pass\n",
    "    cv2.imshow('oxxostudio', img)\n",
    "    if cv2.waitKey(5) == ord('q'):\n",
    "        break\n",
    "cap.release()\n",
    "cv2.destroyAllWindows()"
   ]
  }
 ],
 "metadata": {
  "kernelspec": {
   "display_name": "Python 3",
   "language": "python",
   "name": "python3"
  },
  "language_info": {
   "codemirror_mode": {
    "name": "ipython",
    "version": 3
   },
   "file_extension": ".py",
   "mimetype": "text/x-python",
   "name": "python",
   "nbconvert_exporter": "python",
   "pygments_lexer": "ipython3",
   "version": "3.10.6"
  }
 },
 "nbformat": 4,
 "nbformat_minor": 2
}
